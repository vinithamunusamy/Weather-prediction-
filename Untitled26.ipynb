{
  "nbformat": 4,
  "nbformat_minor": 0,
  "metadata": {
    "colab": {
      "provenance": [],
      "authorship_tag": "ABX9TyOLmmGWt1IbSkK0Z0L39+v+",
      "include_colab_link": true
    },
    "kernelspec": {
      "name": "python3",
      "display_name": "Python 3"
    },
    "language_info": {
      "name": "python"
    }
  },
  "cells": [
    {
      "cell_type": "markdown",
      "metadata": {
        "id": "view-in-github",
        "colab_type": "text"
      },
      "source": [
        "<a href=\"https://colab.research.google.com/github/vinithamunusamy/Weather-prediction-/blob/main/Untitled26.ipynb\" target=\"_parent\"><img src=\"https://colab.research.google.com/assets/colab-badge.svg\" alt=\"Open In Colab\"/></a>"
      ]
    },
    {
      "cell_type": "code",
      "execution_count": 4,
      "metadata": {
        "id": "MlvlNfbMx_2i",
        "colab": {
          "base_uri": "https://localhost:8080/"
        },
        "outputId": "4d861335-1602-4984-faa0-47300efa440e"
      },
      "outputs": [
        {
          "output_type": "stream",
          "name": "stdout",
          "text": [
            "(np.float64(9.59), 'Cold')\n",
            "(np.float64(23.92), 'Pleasant')\n"
          ]
        },
        {
          "output_type": "stream",
          "name": "stderr",
          "text": [
            "/usr/local/lib/python3.12/dist-packages/sklearn/utils/validation.py:2739: UserWarning: X does not have valid feature names, but LinearRegression was fitted with feature names\n",
            "  warnings.warn(\n",
            "/usr/local/lib/python3.12/dist-packages/sklearn/utils/validation.py:2739: UserWarning: X does not have valid feature names, but LinearRegression was fitted with feature names\n",
            "  warnings.warn(\n"
          ]
        }
      ],
      "source": [
        "\n",
        "# Weather Condition Check Code\n",
        "\n",
        "import pandas as pd\n",
        "from sklearn.model_selection import train_test_split\n",
        "from sklearn.linear_model import LinearRegression\n",
        "\n",
        "# 1. Load dataset\n",
        "df = pd.read_csv(\"/content/weatherHistory.csv\")\n",
        "\n",
        "# 2. Features and target\n",
        "features = [\"Humidity\", \"Wind Speed (km/h)\", \"Pressure (millibars)\"]\n",
        "X = df[features]\n",
        "y = df[\"Temperature (C)\"]\n",
        "\n",
        "# 3. Train/test split\n",
        "X_train, X_test, y_train, y_test = train_test_split(X, y, test_size=0.2, random_state=42)\n",
        "\n",
        "# 4. Train model\n",
        "model = LinearRegression()\n",
        "model.fit(X_train, y_train)\n",
        "\n",
        "# 5. Function to check weather condition\n",
        "def check_weather(humidity, windspeed, pressure):\n",
        "    temp = model.predict([[humidity, windspeed, pressure]])[0]\n",
        "\n",
        "    # classify conditions\n",
        "    if temp < 10:\n",
        "        condition = \"Cold\"\n",
        "    elif 10 <= temp <= 25:\n",
        "        condition = \"Pleasant\"\n",
        "    else:\n",
        "        condition = \"Hot\"\n",
        "\n",
        "    return round(temp, 2), condition\n",
        "\n",
        "# Example checks\n",
        "print(check_weather(0.80, 12, 1015))   # High humidity, windy\n",
        "print(check_weather(0.40, 5, 1008))    # Low humidity, mild wind\n"
      ]
    }
  ]
}